{
 "cells": [
  {
   "cell_type": "code",
   "execution_count": null,
   "metadata": {},
   "outputs": [],
   "source": [
    "import json\n",
    "import requests\n",
    "import random\n",
    "import string\n",
    "import secrets\n",
    "import time\n",
    "import re\n",
    "import collections\n",
    "bigram_counts=None\n",
    "try:\n",
    "    from urllib.parse import parse_qs, urlencode, urlparse\n",
    "except ImportError:\n",
    "    from urlparse import parse_qs, urlparse\n",
    "    from urllib import urlencode\n",
    "from collections import defaultdict, Counter\n",
    "\n",
    "class HangmanAPIError(Exception):\n",
    "    def __init__(self, result):\n",
    "        self.result = result\n",
    "        self.code = None\n",
    "        try:\n",
    "            self.type = result[\"error_code\"]\n",
    "        except (KeyError, TypeError):\n",
    "            self.type = \"\"\n",
    "\n",
    "        try:\n",
    "            self.message = result[\"error_description\"]\n",
    "        except (KeyError, TypeError):\n",
    "            try:\n",
    "                self.message = result[\"error\"][\"message\"]\n",
    "                self.code = result[\"error\"].get(\"code\")\n",
    "                if not self.type:\n",
    "                    self.type = result[\"error\"].get(\"type\", \"\")\n",
    "            except (KeyError, TypeError):\n",
    "                try:\n",
    "                    self.message = result[\"error_msg\"]\n",
    "                except (KeyError, TypeError):\n",
    "                    self.message = result\n",
    "\n",
    "        Exception.__init__(self, self.message)"
   ]
  },
  {
   "cell_type": "code",
   "execution_count": 2,
   "metadata": {},
   "outputs": [
    {
     "name": "stdout",
     "output_type": "stream",
     "text": [
      "a 4789\n",
      "b 603\n",
      "c 2613\n",
      "d 1367\n",
      "e 3487\n",
      "f 880\n",
      "g 591\n",
      "h 331\n",
      "i 5794\n",
      "j 111\n",
      "k 26\n",
      "l 2467\n",
      "m 1295\n",
      "n 5794\n",
      "o 5794\n",
      "p 1631\n",
      "q 110\n",
      "r 3227\n",
      "s 2802\n",
      "t 5794\n",
      "u 1889\n",
      "v 625\n",
      "w 38\n",
      "x 274\n",
      "y 375\n",
      "z 710\n"
     ]
    }
   ],
   "source": [
    "dictionary_file_location=\"words_250000_train.txt\"\n",
    "text_file = open(dictionary_file_location,\"r\")\n",
    "words = text_file.read().splitlines()\n",
    "text_file.close()\n",
    "import string\n",
    "for a in string.ascii_lowercase:\n",
    "    count=0\n",
    "    for word in words:\n",
    "        if a in word and \"tion\" in word:\n",
    "            count+=1\n",
    "    print(a,count)"
   ]
  },
  {
   "cell_type": "code",
   "execution_count": 3,
   "metadata": {},
   "outputs": [],
   "source": [
    "def getNGrams(words,n):\n",
    "    ngrams = {}\n",
    "    for word in words:\n",
    "        # word=\"$\"*(n-1)+word+\"$\"*(n-1)\n",
    "        if len(word) <n:\n",
    "            continue\n",
    "        for i in range(len(word)-n+1):\n",
    "            ngram = word[i:i+n]\n",
    "            if ngram not in ngrams:\n",
    "                ngrams[ngram] = 1\n",
    "            else:\n",
    "                ngrams[ngram]+=1\n",
    "    return ngrams\n"
   ]
  },
  {
   "cell_type": "code",
   "execution_count": 4,
   "metadata": {},
   "outputs": [],
   "source": [
    "dictionary_file_location=\"words_250000_train.txt\"\n",
    "text_file = open(dictionary_file_location,\"r\")\n",
    "words = text_file.read().splitlines()\n",
    "text_file.close()\n"
   ]
  },
  {
   "cell_type": "code",
   "execution_count": 5,
   "metadata": {},
   "outputs": [],
   "source": [
    "ngrams=[getNGrams(words,i) for i in range(1,5)]"
   ]
  },
  {
   "cell_type": "code",
   "execution_count": 6,
   "metadata": {},
   "outputs": [
    {
     "name": "stderr",
     "output_type": "stream",
     "text": [
      "ERROR: Could not find a version that satisfies the requirement cntk (from versions: none)\n",
      "ERROR: No matching distribution found for cntk\n",
      "WARNING: You are using pip version 21.2.4; however, version 22.0.4 is available.\n",
      "You should consider upgrading via the 'c:\\users\\91930\\appdata\\local\\programs\\python\\python39\\python.exe -m pip install --upgrade pip' command.\n"
     ]
    }
   ],
   "source": [
    "!pip3 install cntk"
   ]
  },
  {
   "cell_type": "code",
   "execution_count": 7,
   "metadata": {},
   "outputs": [
    {
     "name": "stdout",
     "output_type": "stream",
     "text": [
      "Collecting mmdnn\n",
      "  Downloading mmdnn-0.3.1-py2.py3-none-any.whl (318 kB)\n"
     ]
    },
    {
     "name": "stderr",
     "output_type": "stream",
     "text": [
      "WARNING: You are using pip version 21.2.4; however, version 22.0.4 is available.\n",
      "You should consider upgrading via the 'c:\\users\\91930\\appdata\\local\\programs\\python\\python39\\python.exe -m pip install --upgrade pip' command.\n"
     ]
    },
    {
     "name": "stdout",
     "output_type": "stream",
     "text": [
      "Requirement already satisfied: protobuf>=3.6.0 in c:\\users\\91930\\appdata\\local\\programs\\python\\python39\\lib\\site-packages (from mmdnn) (3.14.0)\n",
      "Requirement already satisfied: pillow>=6.2.1 in c:\\users\\91930\\appdata\\local\\programs\\python\\python39\\lib\\site-packages (from mmdnn) (8.2.0)\n",
      "Requirement already satisfied: numpy>=1.15.0 in c:\\users\\91930\\appdata\\local\\programs\\python\\python39\\lib\\site-packages (from mmdnn) (1.22.0)\n",
      "Requirement already satisfied: six>=1.10.0 in c:\\users\\91930\\appdata\\local\\programs\\python\\python39\\lib\\site-packages (from mmdnn) (1.16.0)\n",
      "Installing collected packages: mmdnn\n",
      "Successfully installed mmdnn-0.3.1\n"
     ]
    }
   ],
   "source": [
    "!pip install mmdnn"
   ]
  },
  {
   "cell_type": "code",
   "execution_count": null,
   "metadata": {},
   "outputs": [],
   "source": []
  }
 ],
 "metadata": {
  "interpreter": {
   "hash": "af74d5892cc6ec92d638e3f92566238f8f2331de277a6f0ed89e3a87c5669053"
  },
  "kernelspec": {
   "display_name": "Python 3.9.1 64-bit",
   "language": "python",
   "name": "python3"
  },
  "language_info": {
   "codemirror_mode": {
    "name": "ipython",
    "version": 3
   },
   "file_extension": ".py",
   "mimetype": "text/x-python",
   "name": "python",
   "nbconvert_exporter": "python",
   "pygments_lexer": "ipython3",
   "version": "3.9.1"
  },
  "orig_nbformat": 4
 },
 "nbformat": 4,
 "nbformat_minor": 2
}
