{
 "cells": [
  {
   "cell_type": "markdown",
   "metadata": {},
   "source": [
    "# Trexquant Interview Project (The Hangman Game)\n",
    "\n",
    "* Copyright Trexquant Investment LP. All Rights Reserved. \n",
    "* Redistribution of this question without written consent from Trexquant is prohibited"
   ]
  },
  {
   "cell_type": "markdown",
   "metadata": {},
   "source": [
    "## Instruction:\n",
    "For this coding test, your mission is to write an algorithm that plays the game of Hangman through our API server. \n",
    "\n",
    "When a user plays Hangman, the server first selects a secret word at random from a list. The server then returns a row of underscores (space separated)—one for each letter in the secret word—and asks the user to guess a letter. If the user guesses a letter that is in the word, the word is redisplayed with all instances of that letter shown in the correct positions, along with any letters correctly guessed on previous turns. If the letter does not appear in the word, the user is charged with an incorrect guess. The user keeps guessing letters until either (1) the user has correctly guessed all the letters in the word\n",
    "or (2) the user has made six incorrect guesses.\n",
    "\n",
    "You are required to write a \"guess\" function that takes current word (with underscores) as input and returns a guess letter. You will use the API codes below to play 1,000 Hangman games. You have the opportunity to practice before you want to start recording your game results.\n",
    "\n",
    "Your algorithm is permitted to use a training set of approximately 250,000 dictionary words. Your algorithm will be tested on an entirely disjoint set of 250,000 dictionary words. Please note that this means the words that you will ultimately be tested on do NOT appear in the dictionary that you are given. You are not permitted to use any dictionary other than the training dictionary we provided. This requirement will be strictly enforced by code review.\n",
    "\n",
    "You are provided with a basic, working algorithm. This algorithm will match the provided masked string (e.g. a _ _ l e) to all possible words in the dictionary, tabulate the frequency of letters appearing in these possible words, and then guess the letter with the highest frequency of appearence that has not already been guessed. If there are no remaining words that match then it will default back to the character frequency distribution of the entire dictionary.\n",
    "\n",
    "This benchmark strategy is successful approximately 18% of the time. Your task is to design an algorithm that significantly outperforms this benchmark."
   ]
  },
  {
   "cell_type": "code",
   "execution_count": 82,
   "metadata": {
    "collapsed": true,
    "jupyter": {
     "outputs_hidden": true
    }
   },
   "outputs": [
    {
     "name": "stdout",
     "output_type": "stream",
     "text": [
      "Counter({'c': 38707, 'l': 20726, 'v': 10723, 'g': 10380, 'b': 10268, 'f': 8440, 'd': 8154, 'i': 6712, 'y': 5148, 'h': 4593, 'e': 4097, 'u': 937, 'q': 829, 'n': 590, 't': 333, 'x': 172, 'w': 145, 'm': 43, 'j': 29, 'p': 11, 'k': 6, 's': 4, 'o': 1})\n"
     ]
    }
   ],
   "source": [
    "import json\n",
    "import requests\n",
    "import random\n",
    "import string\n",
    "import secrets\n",
    "import time\n",
    "import re\n",
    "import collections\n",
    "try:\n",
    "    from urllib.parse import parse_qs, urlencode, urlparse\n",
    "except ImportError:\n",
    "    from urlparse import parse_qs, urlparse\n",
    "    from urllib import urlencode\n",
    "from collections import defaultdict, Counter\n",
    "\n",
    "class HangmanAPIError(Exception):\n",
    "    def __init__(self, result):\n",
    "        self.result = result\n",
    "        self.code = None\n",
    "        try:\n",
    "            self.type = result[\"error_code\"]\n",
    "        except (KeyError, TypeError):\n",
    "            self.type = \"\"\n",
    "\n",
    "        try:\n",
    "            self.message = result[\"error_description\"]\n",
    "        except (KeyError, TypeError):\n",
    "            try:\n",
    "                self.message = result[\"error\"][\"message\"]\n",
    "                self.code = result[\"error\"].get(\"code\")\n",
    "                if not self.type:\n",
    "                    self.type = result[\"error\"].get(\"type\", \"\")\n",
    "            except (KeyError, TypeError):\n",
    "                try:\n",
    "                    self.message = result[\"error_msg\"]\n",
    "                except (KeyError, TypeError):\n",
    "                    self.message = result\n",
    "\n",
    "        Exception.__init__(self, self.message)\n",
    "def convert_word(word):\n",
    "    return \"$\" + word\n",
    "\n",
    "def bigram(corpus):\n",
    "    bigram_counts = defaultdict(Counter)\n",
    "    \n",
    "    for word in corpus:\n",
    "        word = convert_word(word)\n",
    "        \n",
    "        # generate a list of bigrams\n",
    "        bigram_list = zip(word[:-1], word[1:])\n",
    "        \n",
    "        # iterate over bigrams\n",
    "        for bigram in bigram_list:\n",
    "            first, second = bigram\n",
    "            bigram_counts[first][second] += 1\n",
    "    return bigram_counts\n",
    "def build_dictionary( dictionary_file_location):\n",
    "    text_file = open(dictionary_file_location,\"r\")\n",
    "    full_dictionary = text_file.read().splitlines()\n",
    "    # keep only unique letters in word. remove other letters\n",
    "    # full_dictionary = [''.join(list(set(word))) for word in full_dictionary]\n",
    "    text_file.close()\n",
    "    return full_dictionary\n",
    "def build_dictionary_bigram(dictionary_file_location):\n",
    "    text_file = open(dictionary_file_location,\"r\")\n",
    "    full_dictionary = text_file.read().splitlines()\n",
    "    # keep only unique letters in word. remove other letters\n",
    "    full_dictionary = [''.join(list(set(word))) for word in full_dictionary]\n",
    "    text_file.close()\n",
    "    return full_dictionary\n",
    "training_set=build_dictionary_bigram(\"words_250000_train.txt\")\n",
    "bigram_counts = bigram(training_set)\n",
    "# Calculate bigram probability\n",
    "def bigram_prob(key, char, bigram_counts):\n",
    "    prev_word_counts = bigram_counts[key]\n",
    "    total_counts = float(sum(prev_word_counts.values()))\n",
    "    # print(\"key:\",key,\"char:\",char,\"total_counts:\",total_counts)\n",
    "    return prev_word_counts[char] / float(sum(prev_word_counts.values())+26*26)\n",
    "\n",
    "def trigram_prob(key, key2, char, bigram_counts):\n",
    "    prev_word_counts = bigram_counts[key][key2]\n",
    "    total_counts = float(sum(prev_word_counts.values()))\n",
    "    # print(\"key:\",key,\"char:\",char,\"total_counts:\",total_counts)\n",
    "    return prev_word_counts[char] / float(sum(prev_word_counts.values())+26*26*26)\n",
    "    \n",
    "\n",
    "print(bigram_counts['a'])"
   ]
  },
  {
   "cell_type": "code",
   "execution_count": 83,
   "metadata": {},
   "outputs": [],
   "source": [
    "import nltk\n",
    "# create letter wise ngrams\n",
    "def trigram(corpus):\n",
    "    trigram_counts = defaultdict(lambda: defaultdict(Counter))\n",
    "    \n",
    "    for word in corpus:\n",
    "        word = convert_word(word)\n",
    "        \n",
    "        # generate a list of trigrams\n",
    "        trigram_list = zip(word[:-2], word[1:-1], word[2:])\n",
    "        \n",
    "        # iterate over trigrams\n",
    "        for trigram in trigram_list:\n",
    "            first, second, third = trigram\n",
    "            trigram_counts[first][second][third] += 1\n",
    "    return trigram_counts\n",
    "\n",
    "# print(training_set[100:104])\n",
    "# print(trigram(training_set[100:104]))\n",
    "trigram_counts = trigram(training_set)\n"
   ]
  },
  {
   "cell_type": "code",
   "execution_count": 84,
   "metadata": {
    "collapsed": true,
    "jupyter": {
     "outputs_hidden": true
    }
   },
   "outputs": [],
   "source": [
    "HANGMAN_URL = \"https://www.trexsim.com/trexsim/hangman\"\n",
    "\n",
    "class HangmanAPI(object):\n",
    "    def __init__(self, access_token=None, session=None, timeout=None):\n",
    "        self.access_token = access_token\n",
    "        self.session = session or requests.Session()\n",
    "        self.timeout = timeout\n",
    "        self.guessed_letters = []\n",
    "        \n",
    "        full_dictionary_location = \"words_250000_train.txt\"\n",
    "        self.full_dictionary = self.build_dictionary(full_dictionary_location)\n",
    "        self.full_dictionary_common_letter_sorted = collections.Counter(\"\".join(self.full_dictionary)).most_common()\n",
    "        \n",
    "        self.current_dictionary = []\n",
    "    def _guess(self, word,letter): # word input example: \"_ p p _ e \"\n",
    "        clean_word = word.replace(\"_\",\".\")\n",
    "        len_word = len(clean_word)\n",
    "        current_dictionary = self.current_dictionary\n",
    "        # print(\"current_dictionary:\",current_dictionary)\n",
    "        new_dictionary = []\n",
    "        for dict_word in current_dictionary:\n",
    "            if len(dict_word) != len_word:\n",
    "                continue\n",
    "            if re.match(clean_word,dict_word):\n",
    "                new_dictionary.append(dict_word)\n",
    "        self.current_dictionary = new_dictionary\n",
    "        full_dict_string = \"\".join(new_dictionary)\n",
    "        if len(full_dict_string) == 0:\n",
    "            full_dict_string=\"\".join(self.full_dictionary)\n",
    "        c = collections.Counter(full_dict_string)\n",
    "        sorted_letter_count = c.most_common()                   \n",
    "        \n",
    "        # print(\"current_dictionary:\",c)\n",
    "        # print(\"string:\",full_dict_string)\n",
    "        # return most frequently occurring letter in all possible words that hasn't been guessed yet\n",
    "        return c[letter]/len(full_dict_string)\n",
    "        for letter,instance_count in sorted_letter_count:\n",
    "            if letter not in self.guessed_letters:\n",
    "                return instance_count/float(len(full_dict_string))\n",
    "            \n",
    "        sorted_letter_count = self.full_dictionary_common_letter_sorted\n",
    "        for letter,instance_count in sorted_letter_count:\n",
    "            if letter not in self.guessed_letters:\n",
    "                return instance_count/float(len(full_dict_string))\n",
    "\n",
    "    def bigram_guesser(self,mask, guessed, bigram_counts=bigram_counts): # add extra arguments if needed \n",
    "        available = list(set(string.ascii_lowercase) - set(guessed))\n",
    "        bigram_probs = []\n",
    "        for char in available:\n",
    "            char_prob = 0\n",
    "            for index in range(len(mask)):\n",
    "                # print(\"index:\",index,\"char:\",char,\"mask:\",mask,\"mask[index]:\",mask[index])\n",
    "                # print(\"char:\",char,\"index:\",index,\"mask[i]:\",mask[index])\n",
    "                if index == 0 and mask[index] == '_':\n",
    "                    # char_prob +=  bigram_prob('$', char, bigram_counts)\n",
    "                    char_prob +=  self._guess(mask,char)\n",
    "\n",
    "                elif mask[index] == '_':\n",
    "                    if not mask[index - 1] == '_':\n",
    "                        char_prob +=  bigram_prob(mask[index - 1], char, bigram_counts)\n",
    "                    else:\n",
    "                        char_prob +=  self._guess(mask,char)\n",
    "                else:\n",
    "                    continue\n",
    "            bigram_probs.append(char_prob)\n",
    "        return available[bigram_probs.index(max(bigram_probs))]\n",
    "\n",
    "    def trigram_guesser(self,mask, guessed, trigram_counts=trigram_counts):\n",
    "        available = list(set(string.ascii_lowercase) - set(guessed))\n",
    "        trigram_probs = []\n",
    "        for char in available:\n",
    "            char_prob = 0\n",
    "            for index in range(len(mask)):\n",
    "                if index == 0 and mask[index] == '_':\n",
    "                    char_prob +=  self._guess(mask,char)\n",
    "                elif index == 1 and mask[index] == '_':\n",
    "                    if not mask[index - 1] == '_':\n",
    "                        char_prob +=  bigram_prob(mask[index - 1],char,bigram_counts)\n",
    "                    else:\n",
    "                        char_prob +=  self._guess(mask,char)\n",
    "                elif mask[index] == '_':\n",
    "                    if not mask[index - 1] == '_':\n",
    "                        if not mask[index - 2] == '_':\n",
    "                            char_prob +=  trigram_prob(mask[index - 2], mask[index - 1], char, trigram_counts)\n",
    "                        else:\n",
    "                            char_prob +=  bigram_prob(mask[index - 1],char, bigram_counts)\n",
    "                    else:\n",
    "                        char_prob +=  self._guess(mask,char)\n",
    "                else:\n",
    "                    continue\n",
    "            trigram_probs.append(char_prob)\n",
    "        return available[trigram_probs.index(max(trigram_probs))]\n",
    "    \n",
    "    def guess(self, word):\n",
    "        word = word[::2].replace(\"_\",\"_\")\n",
    "        # print(\"clean_word:\",clean_word)\n",
    "        # return self.bigram_guesser(word, self.guessed_letters, bigram_counts=bigram_counts)\n",
    "        return self.trigram_guesser(word, self.guessed_letters, trigram_counts=trigram_counts)\n",
    "\n",
    "\n",
    "    ##########################################################\n",
    "    # You'll likely not need to modify any of the code below #\n",
    "    ##########################################################\n",
    "    \n",
    "    def build_dictionary(self, dictionary_file_location):\n",
    "        text_file = open(dictionary_file_location,\"r\")\n",
    "        full_dictionary = text_file.read().splitlines()\n",
    "        text_file.close()\n",
    "        return full_dictionary\n",
    "\n",
    "    def offline(self):\n",
    "        tries_remains=1\n",
    "        self.current_dictionary = self.full_dictionary\n",
    "        while tries_remains>0:\n",
    "                # get guessed letter from user code\n",
    "            word=\"_ _ _ _ _ \"\n",
    "            guess_letter = self.guess(word)\n",
    "                \n",
    "            # append guessed letter to guessed letters field in hangman object\n",
    "            self.guessed_letters.append(guess_letter)\n",
    "            print(\"Guessing letter: {0}\".format(guess_letter))\n",
    "            tries_remains -=1\n",
    "\n",
    "    def start_game(self, practice=True, verbose=True):\n",
    "        # reset guessed letters to empty set and current plausible dictionary to the full dictionary\n",
    "        self.guessed_letters = []\n",
    "        self.current_dictionary = self.full_dictionary\n",
    "                         \n",
    "        response = self.request(\"/new_game\", {\"practice\":practice})\n",
    "        if response.get('status')==\"approved\":\n",
    "            game_id = response.get('game_id')\n",
    "            word = response.get('word')\n",
    "            tries_remains = response.get('tries_remains')\n",
    "            if verbose:\n",
    "                print(\"Successfully start a new game! Game ID: {0}. # of tries remaining: {1}. Word: {2}.\".format(game_id, tries_remains, word))\n",
    "            while tries_remains>0:\n",
    "                # get guessed letter from user code\n",
    "                print(\"Word: {0}\".format(word))\n",
    "                guess_letter = self.guess(word)\n",
    "                    \n",
    "                # append guessed letter to guessed letters field in hangman object\n",
    "                self.guessed_letters.append(guess_letter)\n",
    "                if verbose:\n",
    "                    print(\"Guessing letter: {0}\".format(guess_letter))\n",
    "                    \n",
    "                try:    \n",
    "                    res = self.request(\"/guess_letter\", {\"request\":\"guess_letter\", \"game_id\":game_id, \"letter\":guess_letter})\n",
    "                    print(\"-\")\n",
    "                except HangmanAPIError:\n",
    "                    print('HangmanAPIError exception caught on request.')\n",
    "                    continue\n",
    "                except Exception as e:\n",
    "                    print('Other exception caught on request.')\n",
    "                    raise e\n",
    "               \n",
    "                if verbose:\n",
    "                    print(\"Sever response: {0}\".format(res))\n",
    "                status = res.get('status')\n",
    "                tries_remains = res.get('tries_remains')\n",
    "                if status==\"success\":\n",
    "                    if verbose:\n",
    "                        print(\"Successfully finished game: {0}\".format(game_id))\n",
    "                    return True\n",
    "                elif status==\"failed\":\n",
    "                    reason = res.get('reason', '# of tries exceeded!')\n",
    "                    if verbose:\n",
    "                        print(\"Failed game: {0}. Because of: {1}\".format(game_id, reason))\n",
    "                    return False\n",
    "                elif status==\"ongoing\":\n",
    "                    word = res.get('word')\n",
    "        else:\n",
    "            if verbose:\n",
    "                print(\"Failed to start a new game\")\n",
    "        return status==\"success\"\n",
    "        \n",
    "    def my_status(self):\n",
    "        return self.request(\"/my_status\", {})\n",
    "    \n",
    "    def request(\n",
    "            self, path, args=None, post_args=None, method=None):\n",
    "        if args is None:\n",
    "            args = dict()\n",
    "        if post_args is not None:\n",
    "            method = \"POST\"\n",
    "\n",
    "        # Add `access_token` to post_args or args if it has not already been\n",
    "        # included.\n",
    "        if self.access_token:\n",
    "            # If post_args exists, we assume that args either does not exists\n",
    "            # or it does not need `access_token`.\n",
    "            if post_args and \"access_token\" not in post_args:\n",
    "                post_args[\"access_token\"] = self.access_token\n",
    "            elif \"access_token\" not in args:\n",
    "                args[\"access_token\"] = self.access_token\n",
    "\n",
    "        num_retry, time_sleep = 5, 2                                                                                        \n",
    "        for it in range(num_retry):                                                                                         \n",
    "            try:                                                                                                            \n",
    "                response = self.session.request(                                                                            \n",
    "                    method or \"GET\",                                                                                        \n",
    "                    HANGMAN_URL + path,                                                                                     \n",
    "                    timeout=self.timeout,                                                                                   \n",
    "                    params=args,                                                                                            \n",
    "                    data=post_args                                                                                          \n",
    "                )                                                                                                           \n",
    "                break                                                                                                       \n",
    "            except requests.HTTPError as e:                                                                                 \n",
    "                response = json.loads(e.read())                                                                             \n",
    "                raise HangmanAPIError(response)                                                                             \n",
    "            except requests.exceptions.SSLError as e:                                                                       \n",
    "                if it + 1 == num_retry:                                                                                     \n",
    "                    raise                                                                                                   \n",
    "                time.sleep(time_sleep)  \n",
    "\n",
    "        headers = response.headers\n",
    "        if 'json' in headers['content-type']:\n",
    "            result = response.json()\n",
    "        elif \"access_token\" in parse_qs(response.text):\n",
    "            query_str = parse_qs(response.text)\n",
    "            if \"access_token\" in query_str:\n",
    "                result = {\"access_token\": query_str[\"access_token\"][0]}\n",
    "                if \"expires\" in query_str:\n",
    "                    result[\"expires\"] = query_str[\"expires\"][0]\n",
    "            else:\n",
    "                raise HangmanAPIError(response.json())\n",
    "        else:\n",
    "            raise HangmanAPIError('Maintype was not text, or querystring')\n",
    "\n",
    "        if result and isinstance(result, dict) and result.get(\"error\"):\n",
    "            raise HangmanAPIError(result)\n",
    "        return result\n",
    "    \n"
   ]
  },
  {
   "cell_type": "markdown",
   "metadata": {},
   "source": [
    "# API Usage Examples"
   ]
  },
  {
   "cell_type": "markdown",
   "metadata": {},
   "source": [
    "## To start a new game:\n",
    "1. Make sure you have implemented your own \"guess\" method.\n",
    "2. Use the access_token that we sent you to create your HangmanAPI object. \n",
    "3. Start a game by calling \"start_game\" method.\n",
    "4. If you wish to test your function without being recorded, set \"practice\" parameter to 1.\n",
    "5. Note: You have a rate limit of 20 new games per minute. DO NOT start more than 20 new games within one minute."
   ]
  },
  {
   "cell_type": "code",
   "execution_count": 85,
   "metadata": {
    "collapsed": true,
    "jupyter": {
     "outputs_hidden": true
    }
   },
   "outputs": [
    {
     "name": "stdout",
     "output_type": "stream",
     "text": [
      "Guessing letter: a\n"
     ]
    }
   ],
   "source": [
    "api = HangmanAPI(access_token=\"1351d29da90b3d587ad0f8b1720f69\", timeout=2000)\n",
    "api.offline()"
   ]
  },
  {
   "cell_type": "markdown",
   "metadata": {},
   "source": [
    "## Playing practice games:\n",
    "You can use the command below to play up to 100,000 practice games."
   ]
  },
  {
   "cell_type": "code",
   "execution_count": 99,
   "metadata": {
    "collapsed": true,
    "jupyter": {
     "outputs_hidden": true
    },
    "scrolled": true
   },
   "outputs": [
    {
     "name": "stdout",
     "output_type": "stream",
     "text": [
      "Successfully start a new game! Game ID: 1bf2c4fcedd3. # of tries remaining: 6. Word: _ _ _ _ _ _ _ _ .\n",
      "Word: _ _ _ _ _ _ _ _ \n",
      "Guessing letter: e\n",
      "-\n",
      "Sever response: {'game_id': '1bf2c4fcedd3', 'status': 'ongoing', 'tries_remains': 6, 'word': 'e _ _ _ _ _ _ e '}\n",
      "Word: e _ _ _ _ _ _ e \n",
      "Guessing letter: u\n",
      "-\n",
      "Sever response: {'game_id': '1bf2c4fcedd3', 'status': 'ongoing', 'tries_remains': 6, 'word': 'e _ u _ _ _ _ e '}\n",
      "Word: e _ u _ _ _ _ e \n",
      "Guessing letter: i\n",
      "-\n",
      "Sever response: {'game_id': '1bf2c4fcedd3', 'status': 'ongoing', 'tries_remains': 5, 'word': 'e _ u _ _ _ _ e '}\n",
      "Word: e _ u _ _ _ _ e \n",
      "Guessing letter: t\n",
      "-\n",
      "Sever response: {'game_id': '1bf2c4fcedd3', 'status': 'ongoing', 'tries_remains': 5, 'word': 'e _ u _ _ _ t e '}\n",
      "Word: e _ u _ _ _ t e \n",
      "Guessing letter: a\n",
      "-\n",
      "Sever response: {'game_id': '1bf2c4fcedd3', 'status': 'ongoing', 'tries_remains': 5, 'word': 'e _ u _ _ a t e '}\n",
      "Word: e _ u _ _ a t e \n",
      "Guessing letter: c\n",
      "-\n",
      "Sever response: {'game_id': '1bf2c4fcedd3', 'status': 'ongoing', 'tries_remains': 4, 'word': 'e _ u _ _ a t e '}\n",
      "Word: e _ u _ _ a t e \n",
      "Guessing letter: l\n",
      "-\n",
      "Sever response: {'game_id': '1bf2c4fcedd3', 'status': 'ongoing', 'tries_remains': 4, 'word': 'e _ u l _ a t e '}\n",
      "Word: e _ u l _ a t e \n",
      "Guessing letter: f\n",
      "-\n",
      "Sever response: {'game_id': '1bf2c4fcedd3', 'status': 'ongoing', 'tries_remains': 3, 'word': 'e _ u l _ a t e '}\n",
      "Word: e _ u l _ a t e \n",
      "Guessing letter: w\n",
      "-\n",
      "Sever response: {'game_id': '1bf2c4fcedd3', 'status': 'ongoing', 'tries_remains': 2, 'word': 'e _ u l _ a t e '}\n",
      "Word: e _ u l _ a t e \n",
      "Guessing letter: r\n",
      "-\n",
      "Sever response: {'game_id': '1bf2c4fcedd3', 'status': 'ongoing', 'tries_remains': 1, 'word': 'e _ u l _ a t e '}\n",
      "Word: e _ u l _ a t e \n",
      "Guessing letter: v\n",
      "-\n",
      "Sever response: {'game_id': '1bf2c4fcedd3', 'status': 'ongoing', 'tries_remains': 1, 'word': 'e v u l _ a t e '}\n",
      "Word: e v u l _ a t e \n",
      "Guessing letter: m\n",
      "-\n",
      "Sever response: {'game_id': '1bf2c4fcedd3', 'status': 'failed', 'tries_remains': 0, 'word': 'e v u l _ a t e '}\n",
      "Failed game: 1bf2c4fcedd3. Because of: # of tries exceeded!\n",
      "run 73 practice games out of an allotted 100,000. practice success rate so far = 0.096\n"
     ]
    }
   ],
   "source": [
    "api.start_game(practice=1,verbose=True)\n",
    "[total_practice_runs,total_recorded_runs,total_recorded_successes,total_practice_successes] = api.my_status() # Get my game stats: (# of tries, # of wins)\n",
    "practice_success_rate = total_practice_successes / total_practice_runs\n",
    "print('run %d practice games out of an allotted 100,000. practice success rate so far = %.3f' % (total_practice_runs, practice_success_rate))\n"
   ]
  },
  {
   "cell_type": "markdown",
   "metadata": {},
   "source": [
    "## Playing recorded games:\n",
    "Please finalize your code prior to running the cell below. Once this code executes once successfully your submission will be finalized. Our system will not allow you to rerun any additional games.\n",
    "\n",
    "Please note that it is expected that after you successfully run this block of code that subsequent runs will result in the error message \"Your account has been deactivated\".\n",
    "\n",
    "Once you've run this section of the code your submission is complete. Please send us your source code via email."
   ]
  },
  {
   "cell_type": "code",
   "execution_count": 9,
   "metadata": {
    "collapsed": true,
    "jupyter": {
     "outputs_hidden": true
    }
   },
   "outputs": [
    {
     "name": "stdout",
     "output_type": "stream",
     "text": [
      "Playing  0  th game\n",
      "Playing  1  th game\n",
      "Playing  2  th game\n",
      "Playing  3  th game\n",
      "Playing  4  th game\n"
     ]
    },
    {
     "ename": "KeyboardInterrupt",
     "evalue": "",
     "output_type": "error",
     "traceback": [
      "\u001b[1;31m---------------------------------------------------------------------------\u001b[0m",
      "\u001b[1;31mKeyboardInterrupt\u001b[0m                         Traceback (most recent call last)",
      "\u001b[1;32m<ipython-input-9-cff79ea40adc>\u001b[0m in \u001b[0;36m<module>\u001b[1;34m\u001b[0m\n\u001b[0;32m      5\u001b[0m \u001b[1;33m\u001b[0m\u001b[0m\n\u001b[0;32m      6\u001b[0m     \u001b[1;31m# DO NOT REMOVE as otherwise the server may lock you out for too high frequency of requests\u001b[0m\u001b[1;33m\u001b[0m\u001b[1;33m\u001b[0m\u001b[1;33m\u001b[0m\u001b[0m\n\u001b[1;32m----> 7\u001b[1;33m     \u001b[0mtime\u001b[0m\u001b[1;33m.\u001b[0m\u001b[0msleep\u001b[0m\u001b[1;33m(\u001b[0m\u001b[1;36m0.5\u001b[0m\u001b[1;33m)\u001b[0m\u001b[1;33m\u001b[0m\u001b[1;33m\u001b[0m\u001b[0m\n\u001b[0m",
      "\u001b[1;31mKeyboardInterrupt\u001b[0m: "
     ]
    }
   ],
   "source": [
    "for i in range(100):\n",
    "    print('Playing ', i, ' th game')\n",
    "    # Uncomment the following line to execute your final runs. Do not do this until you are satisfied with your submission\n",
    "    #api.start_game(practice=0,verbose=False)\n",
    "    \n",
    "    # DO NOT REMOVE as otherwise the server may lock you out for too high frequency of requests\n",
    "    time.sleep(0.5)"
   ]
  },
  {
   "cell_type": "code",
   "execution_count": null,
   "metadata": {
    "collapsed": true,
    "jupyter": {
     "outputs_hidden": true
    }
   },
   "outputs": [],
   "source": []
  },
  {
   "cell_type": "markdown",
   "metadata": {},
   "source": [
    "## To check your game statistics\n",
    "1. Simply use \"my_status\" method.\n",
    "2. Returns your total number of games, and number of wins."
   ]
  },
  {
   "cell_type": "code",
   "execution_count": 16,
   "metadata": {
    "collapsed": true,
    "jupyter": {
     "outputs_hidden": true
    }
   },
   "outputs": [
    {
     "name": "stdout",
     "output_type": "stream",
     "text": [
      "run 4 practice games out of an allotted 100,000. practice success rate so far = 0.250\n",
      "run 0 recorded games out of an allotted 100,000. recorded success rate so far = 0.000\n"
     ]
    },
    {
     "ename": "ZeroDivisionError",
     "evalue": "division by zero",
     "output_type": "error",
     "traceback": [
      "\u001b[1;31m---------------------------------------------------------------------------\u001b[0m",
      "\u001b[1;31mZeroDivisionError\u001b[0m                         Traceback (most recent call last)",
      "\u001b[1;32m<ipython-input-16-ca8632e67d14>\u001b[0m in \u001b[0;36m<module>\u001b[1;34m\u001b[0m\n\u001b[0;32m      2\u001b[0m \u001b[0mprint\u001b[0m\u001b[1;33m(\u001b[0m\u001b[1;34m'run %d practice games out of an allotted 100,000. practice success rate so far = %.3f'\u001b[0m \u001b[1;33m%\u001b[0m \u001b[1;33m(\u001b[0m\u001b[0mtotal_practice_runs\u001b[0m\u001b[1;33m,\u001b[0m \u001b[0mpractice_success_rate\u001b[0m\u001b[1;33m)\u001b[0m\u001b[1;33m)\u001b[0m\u001b[1;33m\u001b[0m\u001b[1;33m\u001b[0m\u001b[0m\n\u001b[0;32m      3\u001b[0m \u001b[0mprint\u001b[0m\u001b[1;33m(\u001b[0m\u001b[1;34m'run %d recorded games out of an allotted 100,000. recorded success rate so far = %.3f'\u001b[0m \u001b[1;33m%\u001b[0m \u001b[1;33m(\u001b[0m\u001b[0mtotal_recorded_runs\u001b[0m\u001b[1;33m,\u001b[0m \u001b[0mtotal_recorded_successes\u001b[0m\u001b[1;33m)\u001b[0m\u001b[1;33m)\u001b[0m\u001b[1;33m\u001b[0m\u001b[1;33m\u001b[0m\u001b[0m\n\u001b[1;32m----> 4\u001b[1;33m \u001b[0msuccess_rate\u001b[0m \u001b[1;33m=\u001b[0m \u001b[0mtotal_recorded_successes\u001b[0m\u001b[1;33m/\u001b[0m\u001b[0mtotal_recorded_runs\u001b[0m\u001b[1;33m\u001b[0m\u001b[1;33m\u001b[0m\u001b[0m\n\u001b[0m\u001b[0;32m      5\u001b[0m \u001b[0mprint\u001b[0m\u001b[1;33m(\u001b[0m\u001b[1;34m'overall success rate = %.3f'\u001b[0m \u001b[1;33m%\u001b[0m \u001b[0msuccess_rate\u001b[0m\u001b[1;33m)\u001b[0m\u001b[1;33m\u001b[0m\u001b[1;33m\u001b[0m\u001b[0m\n",
      "\u001b[1;31mZeroDivisionError\u001b[0m: division by zero"
     ]
    }
   ],
   "source": [
    "[total_practice_runs,total_recorded_runs,total_recorded_successes,total_practice_successes] = api.my_status() # Get my game stats: (# of tries, # of wins)\n",
    "print('run %d practice games out of an allotted 100,000. practice success rate so far = %.3f' % (total_practice_runs, practice_success_rate))\n",
    "print('run %d recorded games out of an allotted 100,000. recorded success rate so far = %.3f' % (total_recorded_runs, total_recorded_successes))\n",
    "success_rate = total_recorded_successes/total_recorded_runs\n",
    "print('overall success rate = %.3f' % success_rate)"
   ]
  },
  {
   "cell_type": "code",
   "execution_count": null,
   "metadata": {
    "collapsed": true,
    "jupyter": {
     "outputs_hidden": true
    }
   },
   "outputs": [],
   "source": []
  }
 ],
 "metadata": {
  "kernelspec": {
   "display_name": "Python 3 (ipykernel)",
   "language": "python",
   "name": "python3"
  },
  "language_info": {
   "codemirror_mode": {
    "name": "ipython",
    "version": 3
   },
   "file_extension": ".py",
   "mimetype": "text/x-python",
   "name": "python",
   "nbconvert_exporter": "python",
   "pygments_lexer": "ipython3",
   "version": "3.9.1"
  }
 },
 "nbformat": 4,
 "nbformat_minor": 4
}
